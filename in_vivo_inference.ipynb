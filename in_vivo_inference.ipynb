{
 "cells": [
  {
   "cell_type": "markdown",
   "id": "86e6149d",
   "metadata": {},
   "source": [
    "## Library imoprt & Function definition"
   ]
  },
  {
   "cell_type": "code",
   "execution_count": null,
   "id": "0066fb61",
   "metadata": {},
   "outputs": [],
   "source": [
    "import numpy as np\n",
    "import pandas as pd\n",
    "import dgl\n",
    "import torch\n",
    "from dgllife.utils import CanonicalAtomFeaturizer, CanonicalBondFeaturizer\n",
    "from dgllife.utils import smiles_to_bigraph\n",
    "from torch.utils.data import DataLoader\n",
    "import copy\n",
    "from model.main.DMPNN import * \n",
    "from model.main.utils import *\n",
    "from model.main.models import *\n",
    "from model.main.trainer import *"
   ]
  },
  {
   "cell_type": "code",
   "execution_count": null,
   "id": "16a15c23",
   "metadata": {},
   "outputs": [],
   "source": [
    "def warn(*args, **kwargs):\n",
    "    pass\n",
    "import warnings\n",
    "warnings.warn = warn"
   ]
  },
  {
   "cell_type": "code",
   "execution_count": null,
   "id": "ba270d04",
   "metadata": {},
   "outputs": [],
   "source": [
    "def mtl_building(node_input_dim=74,\n",
    "                      edge_input_dim=12,\n",
    "                      node_hidden_dim=int(2 ** 7),\n",
    "                      edge_hidden_dim=int(2 ** 7),\n",
    "                      num_step_message_passing=4,\n",
    "                      num_step_mha=1, tox21_task_num = 12, task_num = 3):\n",
    "\n",
    "    model = MTL_invivo_inference(\n",
    "                 node_input_dim=node_input_dim,\n",
    "                 edge_input_dim=edge_input_dim,\n",
    "                 node_hidden_dim=node_hidden_dim,\n",
    "                 edge_hidden_dim=edge_hidden_dim,\n",
    "                 num_step_message_passing=num_step_message_passing, \n",
    "                 num_step_mha=num_step_mha,\n",
    "                tox21_task_num = tox21_task_num,\n",
    "                task_num = task_num\n",
    "            )\n",
    "    \n",
    "    model_tox21 = Tox21_embed(\n",
    "            node_input_dim = node_input_dim,\n",
    "            edge_input_dim = edge_input_dim,\n",
    "            node_hidden_dim = node_hidden_dim,\n",
    "            edge_hidden_dim = edge_hidden_dim,\n",
    "            num_step_message_passing = num_step_message_passing, \n",
    "            num_step_mha = num_step_mha,task_num = tox21_task_num\n",
    "        )    \n",
    "    \n",
    "    return model, model_tox21"
   ]
  },
  {
   "cell_type": "code",
   "execution_count": null,
   "id": "b5c22000",
   "metadata": {},
   "outputs": [],
   "source": [
    "def collate(sample):\n",
    "    graphs, labels = map(list,zip(*sample))\n",
    "    batched_graph = dgl.batch(graphs)\n",
    "    batched_graph.set_n_initializer(dgl.init.zero_initializer)\n",
    "    batched_graph.set_e_initializer(dgl.init.zero_initializer)\n",
    "    return batched_graph, torch.tensor(labels)\n",
    "\n",
    "def load_data(df, labels, atom_featurizer, bond_featurizer):\n",
    "    print(\"---------------- Target loading --------------------\")\n",
    "    test_g = [smiles_to_bigraph(smi, node_featurizer=atom_featurizer, edge_featurizer=bond_featurizer) for smi in df['smiles']]\n",
    "    test_y = df[labels].values.tolist()\n",
    "    test_data = list(zip(test_g, test_y))\n",
    "    print(\"---------------- Target loading complete --------------------\")\n",
    "    return test_data\n",
    "\n",
    "def dataloader_pred(train, labels, batch_size):\n",
    "    s_tr = load_data(train, labels, CanonicalAtomFeaturizer(), CanonicalBondFeaturizer())\n",
    "    tr_loader = DataLoader(s_tr, batch_size=batch_size, shuffle = False, collate_fn = collate, drop_last = False)\n",
    "\n",
    "    return tr_loader"
   ]
  },
  {
   "cell_type": "markdown",
   "id": "df790f52",
   "metadata": {},
   "source": [
    "## Inference & Performance evaluation"
   ]
  },
  {
   "cell_type": "code",
   "execution_count": null,
   "id": "d04c7d3f",
   "metadata": {},
   "outputs": [],
   "source": [
    "GPU_NUM = 0\n",
    "device = torch.device(f'cuda:{GPU_NUM}' if GPU_NUM >= 0 else 'cpu')\n",
    "torch.cuda.set_device(device)"
   ]
  },
  {
   "cell_type": "code",
   "execution_count": null,
   "id": "ba3bf7ae",
   "metadata": {
    "scrolled": true
   },
   "outputs": [],
   "source": [
    "data_path = './data/external_data/external_total.csv'\n",
    "df_external = pd.read_csv(data_path)"
   ]
  },
  {
   "cell_type": "code",
   "execution_count": null,
   "id": "3ea64446",
   "metadata": {},
   "outputs": [],
   "source": [
    "df_list = []\n",
    "\n",
    "for col in ['carcino', 'dili', 'genotox']:\n",
    "    df = df_external[['smiles', col]].dropna().reset_index(drop = True)\n",
    "    df.columns = ['smiles', 'label']\n",
    "    df['data'] = col\n",
    "    df_list.append(df)"
   ]
  },
  {
   "cell_type": "code",
   "execution_count": null,
   "id": "cf820901",
   "metadata": {},
   "outputs": [],
   "source": [
    "total = pd.concat(df_list, axis = 0).reset_index(drop = True)"
   ]
  },
  {
   "cell_type": "code",
   "execution_count": null,
   "id": "18b01c8b",
   "metadata": {
    "scrolled": true
   },
   "outputs": [],
   "source": [
    "batch_size = 64\n",
    "ex_loader= dataloader_pred(total,'label', batch_size)"
   ]
  },
  {
   "cell_type": "code",
   "execution_count": null,
   "id": "6e4350a7",
   "metadata": {},
   "outputs": [],
   "source": [
    "GPU_NUM = 0\n",
    "device = torch.device(f'cuda:{GPU_NUM}' if torch.cuda.is_available() else 'cpu')\n",
    "torch.cuda.set_device(device)"
   ]
  },
  {
   "cell_type": "code",
   "execution_count": null,
   "id": "ab0642f4",
   "metadata": {},
   "outputs": [],
   "source": [
    "model, tox21_model = mtl_building()\n",
    "tox21_state = torch.load(\"./model/pretrained_ckpts/tox21.pth\", map_location=device)\n",
    "tox21_model.load_state_dict(tox21_state['model_state_dict'], strict = False)\n",
    "model.to(device)\n",
    "tox21_model.to(device)"
   ]
  },
  {
   "cell_type": "code",
   "execution_count": null,
   "id": "9976771b",
   "metadata": {
    "scrolled": true
   },
   "outputs": [],
   "source": [
    "state = torch.load(\"./invivo_best.pth\", map_location=device)\n",
    "model.load_state_dict(state['model_state_dict'], strict = False)\n",
    "model.gnn.load_state_dict(copy.deepcopy(tox21_model.gnn.state_dict()))\n",
    "for i in range(12):\n",
    "    model.readout[i].load_state_dict(copy.deepcopy(tox21_model.readout[i].state_dict()))"
   ]
  },
  {
   "cell_type": "code",
   "execution_count": null,
   "id": "c1324362",
   "metadata": {},
   "outputs": [],
   "source": [
    "test_pred = invivo_inference(model, ex_loader, device)"
   ]
  },
  {
   "cell_type": "code",
   "execution_count": null,
   "id": "421aff7a",
   "metadata": {
    "scrolled": true
   },
   "outputs": [],
   "source": [
    "total['carcino_pred'] = test_pred[:, 0, 0]\n",
    "total['dili_pred'] = test_pred[:, 1, 0]\n",
    "total['genotox_pred'] = test_pred[:, 2, 0]\n",
    "\n",
    "score_dict = {}\n",
    "\n",
    "for n_data in set(total['data']):\n",
    "    df = total[total['data'] == n_data]\n",
    "    score_dict[n_data] = score(df['label'], df[n_data +  '_pred'])"
   ]
  },
  {
   "cell_type": "code",
   "execution_count": null,
   "id": "3bb0f5bb",
   "metadata": {
    "scrolled": true
   },
   "outputs": [],
   "source": [
    "pred_metrics = pd.DataFrame(score_dict).T.reset_index()\n",
    "pred_metrics.columns = ['task','loss', 'pre', 'sen', 'spe', 'acc', 'bac', 'f1', 'aupr', 'auc']"
   ]
  },
  {
   "cell_type": "code",
   "execution_count": null,
   "id": "e9e216dd",
   "metadata": {},
   "outputs": [],
   "source": [
    "pred_metrics"
   ]
  },
  {
   "cell_type": "code",
   "execution_count": null,
   "id": "6e87d081",
   "metadata": {},
   "outputs": [],
   "source": []
  }
 ],
 "metadata": {
  "kernelspec": {
   "display_name": "multi_tox",
   "language": "python",
   "name": "multi_tox"
  },
  "language_info": {
   "codemirror_mode": {
    "name": "ipython",
    "version": 3
   },
   "file_extension": ".py",
   "mimetype": "text/x-python",
   "name": "python",
   "nbconvert_exporter": "python",
   "pygments_lexer": "ipython3",
   "version": "3.7.16"
  }
 },
 "nbformat": 4,
 "nbformat_minor": 5
}
