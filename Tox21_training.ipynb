{
 "cells": [
  {
   "cell_type": "markdown",
   "id": "f5741ac6",
   "metadata": {},
   "source": [
    "## Library import & Function definition"
   ]
  },
  {
   "cell_type": "code",
   "execution_count": null,
   "id": "2097e72b",
   "metadata": {},
   "outputs": [],
   "source": [
    "import numpy as np\n",
    "import pandas as pd\n",
    "import copy\n",
    "import dgl\n",
    "import torch\n",
    "from tqdm import tqdm\n",
    "from dgllife.utils import CanonicalAtomFeaturizer, CanonicalBondFeaturizer\n",
    "from dgllife.utils import smiles_to_bigraph\n",
    "from torch.utils.data import DataLoader\n",
    "from model.main.DMPNN import * \n",
    "from model.main.utils import *\n",
    "from model.main.scheduler import NoamLR\n",
    "from model.main.models import *\n",
    "from model.main.trainer import *"
   ]
  },
  {
   "cell_type": "code",
   "execution_count": null,
   "id": "c3fe7dd7",
   "metadata": {},
   "outputs": [],
   "source": [
    "def model_building(node_input_dim=74,\n",
    "                      edge_input_dim=12,\n",
    "                      node_hidden_dim=int(2 ** 7),\n",
    "                      edge_hidden_dim=int(2 ** 7),\n",
    "                      num_step_message_passing=4,\n",
    "                      num_step_mha=1, tox21_task_num = 12, task_num = 3):\n",
    "    \n",
    "    model_chembl = ChEMBL_fullmodel(\n",
    "                 node_input_dim=node_input_dim,\n",
    "                 edge_input_dim=edge_input_dim,\n",
    "                 node_hidden_dim=node_hidden_dim,\n",
    "                 edge_hidden_dim=edge_hidden_dim,\n",
    "                 num_step_message_passing=num_step_message_passing, \n",
    "                 num_step_mha=num_step_mha)    \n",
    "    \n",
    "    model_tox21 = Tox21_fullmodel(\n",
    "                 node_input_dim=node_input_dim,\n",
    "                 edge_input_dim=edge_input_dim,\n",
    "                 node_hidden_dim=node_hidden_dim,\n",
    "                 edge_hidden_dim=edge_hidden_dim,\n",
    "                 num_step_message_passing=num_step_message_passing, \n",
    "                 num_step_mha=num_step_mha,\n",
    "                 task_num = tox21_task_num)\n",
    "     \n",
    "    return model_chembl, model_tox21"
   ]
  },
  {
   "cell_type": "code",
   "execution_count": null,
   "id": "aaf044dd",
   "metadata": {},
   "outputs": [],
   "source": [
    "def collate(sample):\n",
    "    graphs, labels, mask = map(list,zip(*sample))\n",
    "    batched_graph = dgl.batch(graphs)\n",
    "    batched_graph.set_n_initializer(dgl.init.zero_initializer)\n",
    "    batched_graph.set_e_initializer(dgl.init.zero_initializer)\n",
    "    return batched_graph, torch.tensor(labels), torch.tensor(mask)\n",
    "\n",
    "def load_data(df, labels, atom_featurizer, bond_featurizer):\n",
    "    print(\"---------------- Target loading --------------------\")\n",
    "    test_g = [smiles_to_bigraph(smi, node_featurizer=atom_featurizer, edge_featurizer=bond_featurizer) for smi in df['smiles']]\n",
    "    test_y = df[labels].values.tolist()\n",
    "    mask = np.array(df[labels].notna()).astype('int').tolist()\n",
    "    test_data = list(zip(test_g, test_y, mask))\n",
    "    print(\"---------------- Target loading complete --------------------\")\n",
    "    return test_data\n",
    "\n",
    "def dataloader_tox21(train, valid, labels, batch_size):\n",
    "    s_tr = load_data(train, labels, CanonicalAtomFeaturizer(), CanonicalBondFeaturizer())\n",
    "    s_va =load_data(valid, labels, CanonicalAtomFeaturizer(), CanonicalBondFeaturizer())\n",
    "    tr_loader = DataLoader(s_tr, batch_size=batch_size, shuffle = True, collate_fn = collate, drop_last = False)\n",
    "    vr_loader = DataLoader(s_va, batch_size=batch_size, shuffle = False, collate_fn = collate, drop_last = False)\n",
    "\n",
    "    return  tr_loader, vr_loader"
   ]
  },
  {
   "cell_type": "markdown",
   "id": "4bd81764",
   "metadata": {},
   "source": [
    "## Model configuration & Implementation"
   ]
  },
  {
   "cell_type": "code",
   "execution_count": null,
   "id": "975f63af",
   "metadata": {},
   "outputs": [],
   "source": [
    "GPU_NUM = 0\n",
    "device = torch.device(f'cuda:{GPU_NUM}' if GPU_NUM >= 0 else 'cpu')\n",
    "torch.cuda.set_device(device)"
   ]
  },
  {
   "cell_type": "code",
   "execution_count": null,
   "id": "9bf7d8d3",
   "metadata": {},
   "outputs": [],
   "source": [
    "data_path = './data/internal_data/Tox21/'\n",
    "df_train = pd.read_csv(data_path + 'tox21_train.csv')\n",
    "df_valid = pd.read_csv(data_path + 'tox21_valid.csv')\n",
    "assay_list = list(df_train.columns[1:])"
   ]
  },
  {
   "cell_type": "code",
   "execution_count": null,
   "id": "5d323ba3",
   "metadata": {},
   "outputs": [],
   "source": [
    "batch_size = 128\n",
    "n_epochs = 60\n",
    "lr = 5e-4\n",
    "warmup_epoch = 5\n",
    "decay_step = 20\n",
    "weight_decay = 1e-6\n",
    "\n",
    "num_task = len(assay_list)"
   ]
  },
  {
   "cell_type": "code",
   "execution_count": null,
   "id": "9805680f",
   "metadata": {
    "scrolled": true
   },
   "outputs": [],
   "source": [
    "loss_list = []\n",
    "mode = 'tox21'\n",
    "for i, col in enumerate(assay_list):\n",
    "    loss_weighted = weight_crossentropy(df_train, col, mode, device)\n",
    "    loss_list.append(loss_weighted)\n",
    "\n",
    "src_model, tox21_model = model_building()"
   ]
  },
  {
   "cell_type": "code",
   "execution_count": null,
   "id": "9aa1c5ff",
   "metadata": {},
   "outputs": [],
   "source": [
    "state = torch.load(\"./model/pretrained_ckpts/chembl.pth\", map_location=device)\n",
    "src_model = src_model.to(device)\n",
    "src_model.load_state_dict(state['model_state_dict'], strict = False)"
   ]
  },
  {
   "cell_type": "code",
   "execution_count": null,
   "id": "49d3ea92",
   "metadata": {},
   "outputs": [],
   "source": [
    "src_model = src_model.to(device)\n",
    "tox21_model = tox21_model.to(device)"
   ]
  },
  {
   "cell_type": "code",
   "execution_count": null,
   "id": "08a77d99",
   "metadata": {},
   "outputs": [],
   "source": [
    "tox21_model.gnn.load_state_dict(copy.deepcopy(src_model.featurizer.state_dict()))\n",
    "for i in range(num_task):\n",
    "    tox21_model.readout[i].load_state_dict(copy.deepcopy(src_model.readout.state_dict()))\n",
    "\n",
    "tr_loader, vr_loader = dataloader_tox21(df_train, df_valid, assay_list, batch_size)"
   ]
  },
  {
   "cell_type": "code",
   "execution_count": null,
   "id": "56a2d47c",
   "metadata": {},
   "outputs": [],
   "source": [
    "model_path = f'./Tox21_ckpts/'"
   ]
  },
  {
   "cell_type": "code",
   "execution_count": null,
   "id": "063d1be3",
   "metadata": {},
   "outputs": [],
   "source": [
    "model_optimizer = torch.optim.Adam(tox21_model.parameters(), lr = lr, weight_decay = weight_decay)\n",
    "model_scheduler = NoamLR(optimizer = model_optimizer,\n",
    "         warmup_epochs = [warmup_epoch],\n",
    "         total_epochs = [decay_step],\n",
    "         steps_per_epoch = len(tr_loader),\n",
    "         init_lr = [1e-5],\n",
    "         max_lr = [lr],\n",
    "         final_lr = [1e-5])"
   ]
  },
  {
   "cell_type": "code",
   "execution_count": null,
   "id": "92820bc8",
   "metadata": {
    "scrolled": true
   },
   "outputs": [],
   "source": [
    "metric_dict, top_epoch = tox21_train(tox21_model, model_path, tr_loader, vr_loader, model_optimizer, model_scheduler, loss_list, device, epochs = n_epochs)"
   ]
  },
  {
   "cell_type": "markdown",
   "id": "a5b6a9a1",
   "metadata": {},
   "source": [
    "## Performance evaluation"
   ]
  },
  {
   "cell_type": "code",
   "execution_count": null,
   "id": "92510bf8",
   "metadata": {},
   "outputs": [],
   "source": [
    "state = torch.load(\"./model/pretrained_ckpts/tox21.pth\", map_location=device)\n",
    "tox21_model.load_state_dict(state['model_state_dict'])\n",
    "test_pred = tox21_model_prediction(tox21_model, vr_loader, device)\n"
   ]
  },
  {
   "cell_type": "code",
   "execution_count": null,
   "id": "1f547539",
   "metadata": {
    "scrolled": true
   },
   "outputs": [],
   "source": [
    "evaluate_results(test_pred, df_valid, assay_list, score)"
   ]
  },
  {
   "cell_type": "code",
   "execution_count": null,
   "id": "a712a089",
   "metadata": {},
   "outputs": [],
   "source": []
  }
 ],
 "metadata": {
  "kernelspec": {
   "display_name": "multi_tox",
   "language": "python",
   "name": "multi_tox"
  },
  "language_info": {
   "codemirror_mode": {
    "name": "ipython",
    "version": 3
   },
   "file_extension": ".py",
   "mimetype": "text/x-python",
   "name": "python",
   "nbconvert_exporter": "python",
   "pygments_lexer": "ipython3",
   "version": "3.7.16"
  }
 },
 "nbformat": 4,
 "nbformat_minor": 5
}
